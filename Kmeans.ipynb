{
 "cells": [
  {
   "cell_type": "markdown",
   "id": "ac9caf8c",
   "metadata": {},
   "source": [
    "# k-Means Clustering from Scratch"
   ]
  },
  {
   "cell_type": "markdown",
   "id": "97a544ef",
   "metadata": {},
   "source": [
    "## Importing Libraries"
   ]
  },
  {
   "cell_type": "code",
   "execution_count": 1,
   "id": "0b63e072",
   "metadata": {},
   "outputs": [],
   "source": [
    "import numpy as np\n",
    "import matplotlib.pyplot as plt\n",
    "from sklearn.datasets import make_blobs"
   ]
  },
  {
   "cell_type": "markdown",
   "id": "dd12c717",
   "metadata": {},
   "source": [
    "## KMeans Algorithm"
   ]
  },
  {
   "cell_type": "markdown",
   "id": "d5ab4daa",
   "metadata": {},
   "source": [
    "Steps:\n",
    "1. Select number of clusters\n",
    "2. Choose each centroid starting position, preferrably randomly select k data points and use them as starting points\n",
    "3. Calculate disances from each point to each centroid\n",
    "4. Find closest centroid to the each data point and assign it to the cluster\n",
    "5. Move centroids closer to the cluster's centers\n",
    "6. Repeat until centroid doesn't move or until we reach maximum iterations"
   ]
  },
  {
   "cell_type": "code",
   "execution_count": 8,
   "id": "9d998d3a",
   "metadata": {},
   "outputs": [],
   "source": [
    "class KMeans:\n",
    "    \n",
    "    def __init__(self, k=2, max_iter=100):\n",
    "        self.k = k\n",
    "        self.max_iter = max_iter       \n",
    "                \n",
    "    def fit(self, data):\n",
    "        self.data = data\n",
    "        self.centroids = self.data[:self.k]\n",
    "\n",
    "        for i in range(self.max_iter):\n",
    "            \n",
    "            self.classes = []\n",
    "            \n",
    "            for point in self.data:\n",
    "                # Calculate distances between k-centroids and individual data point\n",
    "                distances = [np.linalg.norm(point - centroid) for centroid in self.centroids]\n",
    "                # Select centroid that is closest to the data point\n",
    "                # and assign class to it (centroids have classes as their index: 0, 1, 2 ... n)\n",
    "                self.classes.append(distances.index(min(distances)))\n",
    "\n",
    "            for i in range(self.k):\n",
    "                # Move centroids closer to the centers of their clusters\n",
    "                self.centroids[i] = np.average([x for x, y in zip(self.data, self.classes) if y == i], axis=0)"
   ]
  },
  {
   "cell_type": "code",
   "execution_count": 9,
   "id": "983853d7",
   "metadata": {},
   "outputs": [],
   "source": [
    "data = make_blobs(n_samples=1000, n_features=2, centers=3)"
   ]
  },
  {
   "cell_type": "code",
   "execution_count": 10,
   "id": "2f00df08",
   "metadata": {},
   "outputs": [],
   "source": [
    "model = KMeans(k=3)\n",
    "model.fit(data[0])"
   ]
  },
  {
   "cell_type": "code",
   "execution_count": 11,
   "id": "22491c5d",
   "metadata": {},
   "outputs": [
    {
     "data": {
      "image/png": "[encoded data removed]",
      "text/plain": [
       "<Figure size 432x288 with 1 Axes>"
      ]
     },
     "metadata": {
      "needs_background": "light"
     },
     "output_type": "display_data"
    }
   ],
   "source": [
    "plt.scatter([i[0] for i in data[0]], [i[1] for i in data[0]])\n",
    "\n",
    "for i in model.centroids:\n",
    "    plt.scatter(i[0], i[1], marker='*', s=130, c='yellow')\n",
    "plt.show()"
   ]
  },
  {
   "cell_type": "code",
   "execution_count": null,
   "id": "dc135d52",
   "metadata": {},
   "outputs": [],
   "source": []
  }
 ],
 "metadata": {
  "kernelspec": {
   "display_name": "Python 3",
   "language": "python",
   "name": "python3"
  },
  "language_info": {
   "codemirror_mode": {
    "name": "ipython",
    "version": 3
   },
   "file_extension": ".py",
   "mimetype": "text/x-python",
   "name": "python",
   "nbconvert_exporter": "python",
   "pygments_lexer": "ipython3",
   "version": "3.9.2"
  }
 },
 "nbformat": 4,
 "nbformat_minor": 5
}
